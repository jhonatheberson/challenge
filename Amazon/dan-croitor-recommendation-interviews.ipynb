{
 "cells": [
  {
   "cell_type": "markdown",
   "metadata": {},
   "source": [
    "# 50% Faster Amazon Interview Prep"
   ]
  },
  {
   "cell_type": "markdown",
   "metadata": {},
   "source": [
    "- preparar um banco de historias\n"
   ]
  },
  {
   "cell_type": "markdown",
   "metadata": {},
   "source": [
    "- amazon usa seus pricípios de liderança extensivamente parra selecionar candidatos de empregos"
   ]
  },
  {
   "cell_type": "markdown",
   "metadata": {},
   "source": [
    "- prepara história diretamente ligadas aos princípios de liderança"
   ]
  },
  {
   "cell_type": "markdown",
   "metadata": {},
   "source": [
    "# 5 Amazon Interview Myths"
   ]
  },
  {
   "cell_type": "markdown",
   "metadata": {},
   "source": [
    "- respostas de 2 minutos (respostas precisas)\n",
    "- ser afiado na cargo que almeja\n",
    "- não usar respostas de ai, para falar na entrevista"
   ]
  },
  {
   "cell_type": "markdown",
   "metadata": {},
   "source": [
    "# Answering 13 questions asked in 98% Amazon Interviews in 2024"
   ]
  },
  {
   "cell_type": "markdown",
   "metadata": {},
   "source": [
    " 1. Como você mostra a obsessão pelo cliente? desenvolvedor fala sobre como eles consertaram bug crítico de produção em um curto espaço de tempo [**obsessão do cliente é quando você literalmente vai além dos clientes pelos motivos certos**]\n",
    "\n",
    " 2. Ficou preso 75% projeto foi feito e foi bem sucedido? Falar sobre ficou preso 75%, e projeto de sucesso concluio com sucesso. pensar o que é desafiador para minha função \n",
    " \n",
    " 3. Falar sobre os apredizados é melhor do que falar sobre falhas. eu não falho, apenas apendo, ou falar como falhariam. finja até contornar e não responder a pergunta.\n",
    "\n",
    " 4. conte o tempo e como você lida com uma situação ambígua, e quando você não tinha dados suficiêntes para tomar a decisão certa, como você abordou a situação qual foi o resultado certo? \n",
    "    - falar de historia de sucesso\n",
    "    - ambiguidade em sua função desempenha\n",
    "    - usa a experiencia anterior para solucionar, \n",
    "    - ursos para chegar melhor possível e eliminar essa ambiguidade\n",
    "\n",
    " 5. conte-me sobre a vez em que você convenceu alguém de algo?\n",
    "\n",
    "    - concentrar em ganhar confiança\n",
    "    - controí a confiança\n",
    "    - a confiança conquistada como um principio de liderança\n",
    "\n",
    "  6. conte-me sobre uma vez em que você teve um  grande desentendimento com seu chefe?\n",
    "    - Concentra na confiança\n",
    "    - caminhos:\n",
    "        a. encontrei a prova que você sabe que talvez tenha encontrado alguns dados para defender meu ponto de vista e convece-los.\n",
    "\n",
    "  7. porque amazon?\n",
    "    - venda-se nisso durante ixibirá um pouco comercialismo da sua parte [você gostaria de saber que mostra um pouco de firmeza]\n",
    "    - Falar que você está indo pelo dinheiro\n",
    "    - As respostas se diferencio dos outros\n",
    "\n",
    "  8. Um momento em que definiu uma visão quando não havia havia nenhuma?\n",
    "    - principio de liderança\n",
    "    -\n",
    "\n",
    "  9. Quando você saltou para algo fora de sua área de responsabilidade, mas definitivamente é o melhor interesse da sua empresa?\n",
    "    - principio de liderança do direito de propriedade\n",
    "    - já salvou alguém de se afogar, correlacionar\n",
    "    - fazendo algo essencial para empresa\n",
    "\n",
    "  10. em velocidade foi essencialmente bom e o diretor de liderança envolvido aqui foi tendencioso para a ação e talvez o exemplo mais classico seria quando ter que estimar um prazo para um projeto finalizar uma licitação, mas ainda assim alguns requisitos não sen claros, ainda assim o tempo é essencial e você tem que entregar essa estimativa para que a oferta possa avançar corretamente?\n",
    "\n",
    "    - é decisão é cronograma projetos ultrapassam o tempo e o orçamento.\n",
    "    - como fazer você mostrar a velocidade na tomada de decisões\n",
    "\n",
    "  11.  qual é sua mais recente invenção?\n",
    "    - falar com NeoAI\n",
    "    - Algortimo de Patente com AI criar novas medicamentos\n",
    "\n",
    "\n",
    "  12. como você aprende?\n",
    "    - demostra a curiosidade em aprender usando varias fontes\n",
    "    - experimentação\n",
    "\n",
    "  13. Qual é seu ponto fraco?\n",
    "\n",
    "    - poderia ser algo da descrição do trabalho\n",
    "    - Designer de FrontEnd\n",
    "\n",
    "\n",
    "# chat gpt para gerar perguntas para entresvita para minha função, fazer que chatgpt avalie sua resposta\n",
    "\n"
   ]
  },
  {
   "cell_type": "markdown",
   "metadata": {},
   "source": []
  }
 ],
 "metadata": {
  "language_info": {
   "name": "python"
  }
 },
 "nbformat": 4,
 "nbformat_minor": 2
}
