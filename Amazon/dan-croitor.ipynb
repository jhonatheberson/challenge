{
 "cells": [
  {
   "cell_type": "markdown",
   "metadata": {},
   "source": [
    "# 50% Faster Amazon Interview Prep"
   ]
  },
  {
   "cell_type": "markdown",
   "metadata": {},
   "source": [
    "- preparar um banco de historias\n"
   ]
  },
  {
   "cell_type": "markdown",
   "metadata": {},
   "source": [
    "- amazon usa seus pricípios de liderança extensivamente parra selecionar candidatos de empregos"
   ]
  },
  {
   "cell_type": "markdown",
   "metadata": {},
   "source": [
    "- prepara história diretamente ligadas aos princípios de liderança"
   ]
  },
  {
   "cell_type": "markdown",
   "metadata": {},
   "source": [
    "# 5 Amazon Interview Myths"
   ]
  },
  {
   "cell_type": "markdown",
   "metadata": {},
   "source": [
    "- respostas de 2 minutos (respostas precisas)\n",
    "- ser afiado na cargo que almeja\n",
    "- não usar respostas de ai, para falar na entrevista"
   ]
  },
  {
   "cell_type": "markdown",
   "metadata": {},
   "source": [
    "# Answering 13 questions asked in 98% Amazon Interviews in 2024"
   ]
  },
  {
   "cell_type": "markdown",
   "metadata": {},
   "source": [
    " 1. Como você mostra a obsessão pelo cliente? desenvolvedor fala sobre como eles consertaram bug crítico de produção em um curto espaço de tempo [**obsessão do cliente é quando você literalmente vai além dos clientes pelos motivos certos**]\n",
    "\n",
    " 2. Ficou preso 75% projeto foi feito e foi bem sucedido? Falar sobre ficou preso 75%, e projeto de sucesso concluio com sucesso. pensar o que é desafiador para minha função \n",
    " \n",
    " 3. Falar sobre os apredizados é melhor do que falar sobre falhas. eu não falho, apenas apendo, ou falar como falhariam. finja até contornar e não responder a pergunta."
   ]
  },
  {
   "cell_type": "markdown",
   "metadata": {},
   "source": []
  }
 ],
 "metadata": {
  "language_info": {
   "name": "python"
  }
 },
 "nbformat": 4,
 "nbformat_minor": 2
}
