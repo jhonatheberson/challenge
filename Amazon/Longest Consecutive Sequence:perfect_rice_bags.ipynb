{
 "cells": [
  {
   "cell_type": "code",
   "execution_count": 1,
   "metadata": {},
   "outputs": [],
   "source": [
    "from typing import *\n",
    "import math"
   ]
  },
  {
   "cell_type": "markdown",
   "metadata": {},
   "source": [
    "Given a list of ricebags, choose a set of perfect ricebags with maximum size. A perfect ricebag set obeys the following conditions:\n",
    "\n",
    "Atleast size of 2\n",
    "When sorted, ricebags[i] * ricebags[i]=ricebags[i+1] , for all 0 <= i <= N(length of ricebags)\n",
    "Example: ricebags = [3, 4, 2, 9, 16]\n",
    "Possible sets are:\n",
    "\n",
    "1. [3,9] -> size=2\n",
    "2. [4,2] -> size=2\n",
    "3. [4 ,16] -> size=2\n",
    "4. [4,2,16] -> size=3\n",
    "Answer = 3 (max-set-size)\n",
    "\n",
    "Answer\n",
    "The solution is very similar to Longest Consecutive Sequence"
   ]
  },
  {
   "cell_type": "code",
   "execution_count": 2,
   "metadata": {},
   "outputs": [],
   "source": [
    "def is_start_number(num: int, unique_bags: Set[int]):\n",
    "  return not math.sqrt(num) in unique_bags"
   ]
  },
  {
   "cell_type": "code",
   "execution_count": 3,
   "metadata": {},
   "outputs": [],
   "source": [
    "def max_set_size(rice_bags: int):\n",
    "  unique_bags = set(rice_bags)\n",
    "  max_size = 1\n",
    "\n",
    "  for bag in rice_bags:\n",
    "    if not is_start_number(bag, unique_bags): continue\n",
    "\n",
    "    curr_bag = bag\n",
    "    length = 0\n",
    "\n",
    "    while curr_bag in unique_bags:\n",
    "      curr_bag *= curr_bag\n",
    "      length += 1\n",
    "\n",
    "    max_size = max(length, max_size)\n",
    "\n",
    "  return max_size"
   ]
  },
  {
   "cell_type": "code",
   "execution_count": 4,
   "metadata": {},
   "outputs": [],
   "source": [
    "ricebags = [3, 4, 2, 9, 16]"
   ]
  },
  {
   "cell_type": "code",
   "execution_count": 6,
   "metadata": {},
   "outputs": [
    {
     "data": {
      "text/plain": [
       "3"
      ]
     },
     "execution_count": 6,
     "metadata": {},
     "output_type": "execute_result"
    }
   ],
   "source": [
    "max_set = max_set_size(ricebags)"
   ]
  }
 ],
 "metadata": {
  "kernelspec": {
   "display_name": "challenge",
   "language": "python",
   "name": "python3"
  },
  "language_info": {
   "codemirror_mode": {
    "name": "ipython",
    "version": 3
   },
   "file_extension": ".py",
   "mimetype": "text/x-python",
   "name": "python",
   "nbconvert_exporter": "python",
   "pygments_lexer": "ipython3",
   "version": "3.13.0"
  }
 },
 "nbformat": 4,
 "nbformat_minor": 2
}
