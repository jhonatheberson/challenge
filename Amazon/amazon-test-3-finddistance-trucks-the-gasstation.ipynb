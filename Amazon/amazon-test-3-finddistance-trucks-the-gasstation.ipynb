{
 "cells": [
  {
   "cell_type": "code",
   "execution_count": null,
   "metadata": {},
   "outputs": [],
   "source": [
    "#!/bin/python3\n",
    "\n",
    "import math\n",
    "import os\n",
    "import random\n",
    "import re\n",
    "import sys\n",
    "\n",
    "\n",
    "#\n",
    "# Complete the 'findDistances' function below.\n",
    "#\n",
    "# The function is expected to return a LONG_INTEGER_ARRAY.\n",
    "# The function accepts following parameters:\n",
    "#  1. INTEGER_ARRAY position\n",
    "#  2. 2D_INTEGER_ARRAY extraGasStations\n",
    "#\n",
    "\n",
    "from typing import *\n",
    "\n",
    "\n",
    "class Node:\n",
    "    value:int\n",
    "    children: dict[int, 'Node']\n",
    "    is_gas_station: bool\n",
    "    extra_gas_station: bool\n",
    "    total_distance: int\n",
    "\n",
    "    def __init__(self, value:int) -> None:\n",
    "        self.value = value\n",
    "        self.children: dict[int, 'Node'] = {}\n",
    "        self.is_gas_station = False\n",
    "        self.total_distance = None\n",
    "\n",
    "\n",
    "class Trie:\n",
    "    def __init__(self):\n",
    "        self.root = Node(Node)\n",
    "        self.extra_gas_station = True\n",
    "        self.total_distance = None\n",
    "        pass\n",
    "\n",
    "\n",
    "    def add_trucks(self, position) -> None:\n",
    "        current_node = self.root\n",
    "\n",
    "        for letter in position: #O(n) is n length  the position\n",
    "\n",
    "            if letter not in current_node.children:\n",
    "                current_node.children[letter] = Node(letter)\n",
    "\n",
    "            current_node = current_node.children[letter]\n",
    "\n",
    "        current_node.is_gas_station = True\n",
    "\n",
    "\n",
    "\n",
    "    def search_vertical(self, position, extraGasStations) -> bool:\n",
    "        return self.recursive_search_vertical(position, 0, self.root, extraGasStations)\n",
    "\n",
    "    def recursive_search_vertical(self, position, index: int, node: Node, extraGasStations) -> bool:\n",
    "        if index >= len(position):\n",
    "            return False\n",
    "\n",
    "        letter = position[index]\n",
    "\n",
    "        if letter not in node.children:\n",
    "            return False\n",
    "\n",
    "        letter_node = node.children[letter]\n",
    "\n",
    "\n",
    "        if (index+1) in extraGasStations:\n",
    "            self.total_distance += (letter - position[index-1])\n",
    "\n",
    "        if index == len(position) - 1 and letter_node.extra_gas_station:\n",
    "            return True\n",
    "\n",
    "        return self.recursive_search_vertical(position, index + 1, letter_node, extraGasStations)\n",
    "\n",
    "\n",
    "\n",
    "\n",
    "\n",
    "# def findDistances(position, extraGasStations):\n",
    "#     # Write your code here\n",
    "\n",
    "#     trie = Trie()\n",
    "\n",
    "#     trie.add_trucks(position)\n",
    "\n",
    "#     trie.search_vertical(position, extraGasStations)\n",
    "\n",
    "#     return trie.total_distance\n"
   ]
  },
  {
   "cell_type": "code",
   "execution_count": 28,
   "metadata": {},
   "outputs": [],
   "source": [
    "def findDistances(position, extraGasStations):\n",
    "    # Write your code here\n",
    "\n",
    "    trie = Trie()\n",
    "\n",
    "    trie.add_trucks(position)\n",
    "\n",
    "    for i in extraGasStations:\n",
    "\n",
    "        trie.search_vertical(position, i)\n",
    "\n",
    "    return trie.total_distance"
   ]
  },
  {
   "cell_type": "code",
   "execution_count": 23,
   "metadata": {},
   "outputs": [
    {
     "ename": "ValueError",
     "evalue": "invalid literal for int() with base 10: ''",
     "output_type": "error",
     "traceback": [
      "\u001b[0;31m---------------------------------------------------------------------------\u001b[0m",
      "\u001b[0;31mValueError\u001b[0m                                Traceback (most recent call last)",
      "Cell \u001b[0;32mIn[23], line 4\u001b[0m\n\u001b[1;32m      1\u001b[0m \u001b[38;5;28;01mif\u001b[39;00m \u001b[38;5;18m__name__\u001b[39m \u001b[38;5;241m==\u001b[39m \u001b[38;5;124m'\u001b[39m\u001b[38;5;124m__main__\u001b[39m\u001b[38;5;124m'\u001b[39m:\n\u001b[1;32m      2\u001b[0m     \u001b[38;5;66;03m# fptr = open(os.environ['OUTPUT_PATH'], 'w')\u001b[39;00m\n\u001b[0;32m----> 4\u001b[0m     position_count \u001b[38;5;241m=\u001b[39m \u001b[38;5;28;43mint\u001b[39;49m\u001b[43m(\u001b[49m\u001b[38;5;28;43minput\u001b[39;49m\u001b[43m(\u001b[49m\u001b[43m)\u001b[49m\u001b[38;5;241;43m.\u001b[39;49m\u001b[43mstrip\u001b[49m\u001b[43m(\u001b[49m\u001b[43m)\u001b[49m\u001b[43m)\u001b[49m\n\u001b[1;32m      6\u001b[0m     position \u001b[38;5;241m=\u001b[39m []\n\u001b[1;32m      8\u001b[0m     \u001b[38;5;28;01mfor\u001b[39;00m _ \u001b[38;5;129;01min\u001b[39;00m \u001b[38;5;28mrange\u001b[39m(position_count):\n",
      "\u001b[0;31mValueError\u001b[0m: invalid literal for int() with base 10: ''"
     ]
    }
   ],
   "source": [
    "if __name__ == '__main__':\n",
    "    # fptr = open(os.environ['OUTPUT_PATH'], 'w')\n",
    "\n",
    "    position_count = int(input().strip())\n",
    "\n",
    "    position = []\n",
    "\n",
    "    for _ in range(position_count):\n",
    "        position_item = int(input().strip())\n",
    "        position.append(position_item)\n",
    "\n",
    "    extraGasStations_rows = int(input().strip())\n",
    "    extraGasStations_columns = int(input().strip())\n",
    "\n",
    "    extraGasStations = []\n",
    "\n",
    "    for _ in range(extraGasStations_rows):\n",
    "        extraGasStations.append(list(map(int, input().rstrip().split())))\n",
    "\n",
    "    result = findDistances(position, extraGasStations)\n",
    "    # result = map(str, result)\n",
    "    print(result)\n",
    "    # fptr.write('\\n'.join(map(str, result)))\n",
    "    # fptr.write('\\n')\n",
    "\n",
    "    # fptr.close()"
   ]
  },
  {
   "cell_type": "code",
   "execution_count": 12,
   "metadata": {},
   "outputs": [],
   "source": [
    "result"
   ]
  },
  {
   "cell_type": "code",
   "execution_count": 29,
   "metadata": {},
   "outputs": [],
   "source": [
    "position = [3,6,10,15,20]\n",
    "extraGasStations = [[2,4]]"
   ]
  },
  {
   "cell_type": "code",
   "execution_count": null,
   "metadata": {},
   "outputs": [],
   "source": [
    "findDistances(position, extraGasStations)"
   ]
  },
  {
   "cell_type": "code",
   "execution_count": 16,
   "metadata": {},
   "outputs": [],
   "source": [
    "result"
   ]
  },
  {
   "cell_type": "code",
   "execution_count": null,
   "metadata": {},
   "outputs": [],
   "source": []
  }
 ],
 "metadata": {
  "kernelspec": {
   "display_name": "challenge",
   "language": "python",
   "name": "python3"
  },
  "language_info": {
   "codemirror_mode": {
    "name": "ipython",
    "version": 3
   },
   "file_extension": ".py",
   "mimetype": "text/x-python",
   "name": "python",
   "nbconvert_exporter": "python",
   "pygments_lexer": "ipython3",
   "version": "3.13.0"
  }
 },
 "nbformat": 4,
 "nbformat_minor": 2
}
