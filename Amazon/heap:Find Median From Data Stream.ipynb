{
 "cells": [
  {
   "cell_type": "markdown",
   "metadata": {},
   "source": [
    "# Heap\n",
    "\n",
    "Um Heap é uma estrutura de dados de árvore binária completa que satisfaz a propriedade heap: para cada nó, o valor de seus filhos é maior ou igual ao seu próprio valor. Heaps são geralmente usados ​​para implementar filas de prioridade, onde o menor (ou maior) elemento está sempre na raiz da árvore.\n",
    "\n",
    "\n",
    "Estrutura de Dados de Heap\n",
    "\n",
    "![Logo do R](MinHeapAndMaxHeap1.png)"
   ]
  },
  {
   "cell_type": "markdown",
   "metadata": {},
   "source": [
    "# Find Median From Data Stream\n",
    "\n",
    "The median is the middle value in an ordered integer list. If the size of the list is even, there is no middle value, and the median is the mean of the two middle values.\n",
    "\n",
    "- For example, for arr = [2,3,4], the median is 3.\n",
    "- For example, for arr = [2,3], the median is (2 + 3) / 2 = 2.5.\n",
    "\n",
    "Implement the MedianFinder class:\n",
    "\n",
    "- MedianFinder() initializes the MedianFinder object.\n",
    "- void addNum(int num) adds the integer num from the data stream to the data structure.\n",
    "- double findMedian() returns the median of all elements so far. Answers within 10-5 of the actual answer will be accepted.\n",
    " \n",
    "\n",
    "**Example 1:**\n",
    "\n",
    "**Input**\n",
    "[\"MedianFinder\", \"addNum\", \"addNum\", \"findMedian\", \"addNum\", \"findMedian\"]\n",
    "[[], [1], [2], [], [3], []]\n",
    "**Output**\n",
    "[null, null, null, 1.5, null, 2.0]\n",
    "\n",
    "**Explanation**\n",
    "MedianFinder medianFinder = new MedianFinder();\n",
    "medianFinder.addNum(1);    // arr = [1]\n",
    "medianFinder.addNum(2);    // arr = [1, 2]\n",
    "medianFinder.findMedian(); // return 1.5 (i.e., (1 + 2) / 2)\n",
    "medianFinder.addNum(3);    // arr[1, 2, 3]\n",
    "medianFinder.findMedian(); // return 2.0\n",
    " \n",
    "\n",
    "**Constraints:**\n",
    "\n",
    "- -105 <= num <= 105\n",
    "- There will be at least one element in the data structure before calling findMedian.\n",
    "- At most 5 * 104 calls will be made to addNum and findMedian.\n",
    " \n",
    "\n",
    "**Follow up:**\n",
    "\n",
    "- If all integer numbers from the stream are in the range [0, 100], how would you optimize your solution?\n",
    "- If 99% of all integer numbers from the stream are in the range [0, 100], how would you optimize your solution?"
   ]
  },
  {
   "cell_type": "code",
   "execution_count": null,
   "metadata": {},
   "outputs": [],
   "source": [
    "import unittest\n",
    "from typing import *\n",
    "from heapq import heappush, heappop\n",
    "\n",
    "\n",
    "class MedianFinder:\n",
    "\n",
    "    def __init__(self):\n",
    "        self.left_heap = []\n",
    "        self.right_heap = []\n",
    "\n",
    "    def addNum(self, num: int) -> None: #time complecity O(logn)\n",
    "        # 1 < 2 < 3\n",
    "        # 2 < 3 is True\n",
    "\n",
    "        if self.right_heap and self.right_heap[0] < num:\n",
    "            heappush(self.right_heap, num)\n",
    "        # 3 < 2 is False\n",
    "        else:\n",
    "            heappush(self.left_heap, num * -1)\n",
    "\n",
    "        self.rebalance()\n",
    "\n",
    "    def findMedian(self) -> float: #time complecity O(logn)\n",
    "        if len(self.right_heap) == len(self.left_heap):\n",
    "            return (-self.left_heap[0] + self.right_heap[0]) / 2\n",
    "\n",
    "        if len(self.right_heap) > len(self.left_heap):\n",
    "            return self.right_heap[0]\n",
    "\n",
    "        return -self.left_heap[0]\n",
    "\n",
    "    def rebalance(self) -> None:\n",
    "        if len(self.left_heap) > len(self.right_heap) + 1:\n",
    "            left_value = heappop(self.left_heap) * -1\n",
    "            heappush(self.right_heap, left_value)\n",
    "\n",
    "        if len(self.right_heap) > len(self.left_heap) + 1:\n",
    "            right_value = heappop(self.right_heap * -1)\n",
    "            heappush(self.right_heap, right_value)\n"
   ]
  },
  {
   "cell_type": "markdown",
   "metadata": {},
   "source": [
    "# soluction 2, optimization"
   ]
  },
  {
   "cell_type": "markdown",
   "metadata": {},
   "source": [
    "- The idea is to divide numbers into 2 balanced halves, one half low stores low numbers, the other half high stores high numbers. To access the median in O(1), we need a data structure that give us the maximum of low half and the minimum of high half in O(1). That's where maxHeap and minHeap come into play.\n",
    "\n",
    "- We use maxHeap to store a half of low numbers, top of the maxHeap is the highest number among low numbers.\n",
    "\n",
    "- We use minHeap to store a half of high numbers, top of the minHeap is the lowest number among high numbers.\n",
    "\n",
    "- We need to balance the size between maxHeap and minHeap while processing. Hence after adding k elements,\n",
    "  - If k = 2 * i then maxHeap.size = minHeap.size = i\n",
    "  - If k = 2 * i + 1, let maxHeap store 1 element more than minHeap, then maxHeap.size = minHeap.size + 1.\n",
    "\n",
    "- When adding a new number num into our MedianFinder:\n",
    "  - Firstly, add num to the maxHeap, now maxHeap may contain the big element (which should belong to minHeap). So we need to balance, by removing the highest element from maxHeap, and offer it to minHeap.\n",
    "  - Now, the minHeap might hold more elements than maxHeap, in that case, we need to balance the size, by removing the lowest element from minHeap and offer it back to maxHeap.\n",
    "\n",
    "- When doing findMedian():\n",
    "  - If maxHeap.size > minHeap.size return top of the maxHeap, which is the highest number amongs low numbers.\n",
    "  - Else if maxHeap.size == minHeap return the (maxHeap.top() + minHeap.top()) / 2.\n",
    "\n",
    "  ![solution](image-solution-heap-find-median.png)"
   ]
  },
  {
   "cell_type": "code",
   "execution_count": 28,
   "metadata": {},
   "outputs": [],
   "source": [
    "#complexity in Space: O(N)\n",
    "#complexity in\n",
    "class MedianFinder:\n",
    "    def __init__(self): #O(1)\n",
    "        self.minHeap = []\n",
    "        self.maxHeap = []\n",
    "\n",
    "    def addNum(self, num: int) -> None: # this heap is O(logN)\n",
    "        heappush(self.maxHeap, -num)\n",
    "        heappush(self.minHeap, -heappop(self.maxHeap))\n",
    "        if len(self.minHeap) > len(self.maxHeap):\n",
    "            heappush(self.maxHeap, -heappop(self.minHeap))\n",
    "\n",
    "    def findMedian(self) -> float: #O(1)\n",
    "        if len(self.maxHeap) > len(self.minHeap):\n",
    "            return -self.maxHeap[0]\n",
    "        return (-self.maxHeap[0] + self.minHeap[0]) / 2"
   ]
  },
  {
   "cell_type": "code",
   "execution_count": 22,
   "metadata": {},
   "outputs": [],
   "source": [
    "\n",
    "# Your MedianFinder object will be instantiated and called as such:\n",
    "obj = MedianFinder()\n",
    "# obj.addNum(num)\n",
    "# param_2 = obj.findMedian()"
   ]
  },
  {
   "cell_type": "code",
   "execution_count": 23,
   "metadata": {},
   "outputs": [],
   "source": [
    "obj.addNum(1)\n"
   ]
  },
  {
   "cell_type": "code",
   "execution_count": 24,
   "metadata": {},
   "outputs": [],
   "source": [
    "obj.addNum(2)"
   ]
  },
  {
   "cell_type": "code",
   "execution_count": 25,
   "metadata": {},
   "outputs": [
    {
     "data": {
      "text/plain": [
       "1.5"
      ]
     },
     "execution_count": 25,
     "metadata": {},
     "output_type": "execute_result"
    }
   ],
   "source": [
    "obj.findMedian()"
   ]
  },
  {
   "cell_type": "code",
   "execution_count": 26,
   "metadata": {},
   "outputs": [],
   "source": [
    "obj.addNum(3)"
   ]
  },
  {
   "cell_type": "code",
   "execution_count": 27,
   "metadata": {},
   "outputs": [
    {
     "data": {
      "text/plain": [
       "2"
      ]
     },
     "execution_count": 27,
     "metadata": {},
     "output_type": "execute_result"
    }
   ],
   "source": [
    "obj.findMedian()"
   ]
  },
  {
   "cell_type": "code",
   "execution_count": null,
   "metadata": {},
   "outputs": [],
   "source": []
  }
 ],
 "metadata": {
  "kernelspec": {
   "display_name": "challenge",
   "language": "python",
   "name": "python3"
  },
  "language_info": {
   "codemirror_mode": {
    "name": "ipython",
    "version": 3
   },
   "file_extension": ".py",
   "mimetype": "text/x-python",
   "name": "python",
   "nbconvert_exporter": "python",
   "pygments_lexer": "ipython3",
   "version": "3.13.0"
  }
 },
 "nbformat": 4,
 "nbformat_minor": 2
}
