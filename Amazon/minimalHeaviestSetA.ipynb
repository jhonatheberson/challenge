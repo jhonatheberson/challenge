{
 "cells": [
  {
   "cell_type": "code",
   "execution_count": 3,
   "metadata": {},
   "outputs": [
    {
     "name": "stdout",
     "output_type": "stream",
     "text": [
      "False\n",
      "True\n",
      "7\n",
      "23\n",
      "False\n",
      "True\n",
      "13\n",
      "17\n",
      "True\n",
      "True\n",
      "19\n",
      "11\n",
      "[6, 6, 7]\n"
     ]
    }
   ],
   "source": [
    "#!/bin/python3\n",
    "\n",
    "import math\n",
    "import os\n",
    "import random\n",
    "import re\n",
    "import sys\n",
    "\n",
    "\n",
    "\n",
    "#\n",
    "# Complete the 'minimalHeaviestSetA' function below.\n",
    "#\n",
    "# The function is expected to return an INTEGER_ARRAY.\n",
    "# The function accepts INTEGER_ARRAY arr as parameter.\n",
    "#\n",
    "\n",
    "def minimalHeaviestSetA(arr):\n",
    "    # Write your code here\n",
    "    A = []\n",
    "    B = []\n",
    "    orderArr = sorted(arr)\n",
    "    lenght  = len(arr)\n",
    "\n",
    "    lenghtA = int(lenght/2) + 1\n",
    "    #minimo de 2\n",
    "    if (lenghtA < 2):\n",
    "        lenghtA = 2\n",
    "        \n",
    "\n",
    "    \n",
    "    for i in range(lenghtA):\n",
    "        A.append(orderArr.pop())\n",
    "        print(sum(A) > sum(orderArr))\n",
    "        print(len(A) < len(orderArr))\n",
    "        print(sum(A))\n",
    "        print(sum(orderArr))\n",
    "        if (sum(A) > sum(orderArr) and len(A) < len(orderArr)):\n",
    "            B = orderArr.copy()\n",
    "            return sorted(A)\n",
    "\n",
    "    \n",
    "\n",
    "if __name__ == '__main__':\n",
    "\n",
    "\n",
    "    arr = [7,6,5,1,2,3,6]\n",
    "\n",
    "    \n",
    "\n",
    "    result = minimalHeaviestSetA(arr)\n",
    "\n",
    "    print(result)\n",
    "\n",
    "\n"
   ]
  }
 ],
 "metadata": {
  "interpreter": {
   "hash": "31f2aee4e71d21fbe5cf8b01ff0e069b9275f58929596ceb00d14d90e3e16cd6"
  },
  "kernelspec": {
   "display_name": "Python 3.8.2 64-bit",
   "language": "python",
   "name": "python3"
  },
  "language_info": {
   "codemirror_mode": {
    "name": "ipython",
    "version": 3
   },
   "file_extension": ".py",
   "mimetype": "text/x-python",
   "name": "python",
   "nbconvert_exporter": "python",
   "pygments_lexer": "ipython3",
   "version": "3.8.2"
  },
  "orig_nbformat": 4
 },
 "nbformat": 4,
 "nbformat_minor": 2
}
