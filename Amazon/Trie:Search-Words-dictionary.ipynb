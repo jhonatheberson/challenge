{
 "cells": [
  {
   "cell_type": "markdown",
   "metadata": {},
   "source": [
    "# Soluction\n",
    "\n",
    "Design a data structure that supports adding new words and finding if a string matches any previously added string.\n",
    "\n",
    "Implement the WordDictionary class:\n",
    "\n",
    "- WordDictionary() Initializes the object.\n",
    "- void addWord(word) Adds word to the data structure, it can be matched later.\n",
    "- bool search(word) Returns true if there is any string in the data structure that matches word or false otherwise. word may contain dots '.' where dots can be matched with any letter.\n",
    "Example\n",
    "\n",
    "```Input\n",
    "[\"WordDictionary\",\"addWord\",\"addWord\",\"addWord\",\"search\",\"search\",\"search\",\"search\"]\n",
    "[[],[\"bad\"],[\"dad\"],[\"mad\"],[\"pad\"],[\"bad\"],[\".ad\"],[\"b..\"]]\n",
    "Output\n",
    "[null,null,null,null,false,true,true,true]\n",
    "\n",
    "Explanation\n",
    "WordDictionary wordDictionary = new WordDictionary();\n",
    "wordDictionary.addWord(\"bad\");\n",
    "wordDictionary.addWord(\"dad\");\n",
    "wordDictionary.addWord(\"mad\");\n",
    "wordDictionary.search(\"pad\"); // return False\n",
    "wordDictionary.search(\"bad\"); // return True\n",
    "wordDictionary.search(\".ad\"); // return True\n",
    "wordDictionary.search(\"b..\"); // return True\n",
    "```\n",
    "\n",
    "[link](https://swe.auspham.dev/docs/algorithms/tries/design-add-and-search-words-datastructure/)"
   ]
  },
  {
   "cell_type": "code",
   "execution_count": 1,
   "metadata": {},
   "outputs": [],
   "source": [
    "from typing import *\n",
    "import unittest\n",
    "\n",
    "class Node:\n",
    "  value:str\n",
    "  children: Dict[str, 'Node']\n",
    "  is_word: bool\n",
    "\n",
    "  def __init__(self, value: str) -> None:\n",
    "    self.value = value\n",
    "    self.children: Dict[str, 'Node'] = {} # { 'a': Node('a') }\n",
    "    self.is_word = False\n",
    "\n",
    "\n",
    "class App:\n",
    "  def __init__(self):\n",
    "    self.root = Node(None)\n",
    "    self.wild_card = \".\"\n",
    "    pass\n",
    "\n",
    "  def add_word(self, word: str) -> None: #(n)\n",
    "    if len(word) < 1: raise Exception(\"Invalid Input\")\n",
    "\n",
    "    current_node = self.root\n",
    "\n",
    "    for letter in word: #O(n)\n",
    "      if not letter.isalpha():\n",
    "        raise Exception(\"Invalid input\")\n",
    "\n",
    "      if letter not in current_node.children:\n",
    "        current_node.children[letter] = Node(letter)\n",
    "\n",
    "      current_node = current_node.children[letter]\n",
    "\n",
    "    current_node.is_word = True\n",
    "\n",
    "  #search vertical\n",
    "  # def search_vertical(self, word: str) -> bool:\n",
    "  #   current_node = self.root\n",
    "\n",
    "  #   for letter in word:\n",
    "  #     if letter not in current_node.children:\n",
    "  #       return False\n",
    "\n",
    "  #     current_node = current_node.children[letter]\n",
    "\n",
    "  #   return current_node.is_word\n",
    "  #end search vertical\n",
    "\n",
    "  def search_vertical(self, word: str) -> bool: #O(n) where N is length of the tree or the word\n",
    "    return self.recursive_search_vertical(word,0, self.root)\n",
    "\n",
    "  def recursive_search_vertical(self, word:str, index: int, node: Node) -> bool:\n",
    "    if index >= len(word):\n",
    "      return False\n",
    "\n",
    "    letter = word[index]\n",
    "\n",
    "    if letter not in node.children:\n",
    "      return False\n",
    "\n",
    "    letter_node = node.children[letter]\n",
    "    if index == len(word) - 1 and letter_node.is_word:\n",
    "      return True\n",
    "\n",
    "    return self.recursive_search_vertical(word, index + 1, letter_node)\n",
    "\n",
    "  #search horizontal\n",
    "  def search(self, word: str) -> bool: #O(N)\n",
    "    if len(word) < 1: raise Exception(\"Invalid input\")\n",
    "    return self.search_from_node(self.root, 0, word)\n",
    "\n",
    "  def search_from_node(self, parent_node: 'Node', letter_index: int, word: str) -> bool:\n",
    "    if letter_index >= len(word): # O(1)\n",
    "      return parent_node.is_word #O(1)\n",
    "\n",
    "    current_letter = word[letter_index] #analysi assyntotic O(1)\n",
    "\n",
    "    if current_letter != self.wild_card and not current_letter.isalpha():\n",
    "      raise Exception(\"Invalid input\")\n",
    "\n",
    "    if self.parent_node_does_not_have_latter(parent_node, current_letter):\n",
    "      return False\n",
    "\n",
    "    if current_letter == self.wild_card: # O(1)\n",
    "      for latter in parent_node.children: # O(n) in n is size the parent_node.children\n",
    "        if (self.search_from_node(parent_node.children[latter], letter_index + 1, word)):\n",
    "          return True\n",
    "\n",
    "      return False\n",
    "\n",
    "    #recursive\n",
    "    return self.search_from_node(parent_node.children[current_letter], letter_index + 1, word)\n",
    "\n",
    "  def parent_node_does_not_have_latter(self, node:str, letter: str) -> bool: # O(1)\n",
    "    return letter != self.wild_card and letter not in node.children\n",
    "# end search horizontal\n"
   ]
  },
  {
   "cell_type": "code",
   "execution_count": 3,
   "metadata": {},
   "outputs": [],
   "source": [
    "app = App()"
   ]
  },
  {
   "cell_type": "markdown",
   "metadata": {},
   "source": [
    "### search vertical"
   ]
  },
  {
   "cell_type": "code",
   "execution_count": 4,
   "metadata": {},
   "outputs": [],
   "source": [
    "app.add_word(\"abcde\")"
   ]
  },
  {
   "cell_type": "code",
   "execution_count": 5,
   "metadata": {},
   "outputs": [
    {
     "data": {
      "text/plain": [
       "True"
      ]
     },
     "execution_count": 5,
     "metadata": {},
     "output_type": "execute_result"
    }
   ],
   "source": [
    "app.search_vertical(\"abcde\")"
   ]
  },
  {
   "cell_type": "markdown",
   "metadata": {},
   "source": [
    "### search horizontal"
   ]
  },
  {
   "cell_type": "code",
   "execution_count": 23,
   "metadata": {},
   "outputs": [],
   "source": [
    "app.add_word(\"abcde\")"
   ]
  },
  {
   "cell_type": "code",
   "execution_count": 24,
   "metadata": {},
   "outputs": [
    {
     "data": {
      "text/plain": [
       "True"
      ]
     },
     "execution_count": 24,
     "metadata": {},
     "output_type": "execute_result"
    }
   ],
   "source": [
    "app.search(\"abcde\")"
   ]
  },
  {
   "cell_type": "code",
   "execution_count": 25,
   "metadata": {},
   "outputs": [
    {
     "data": {
      "text/plain": [
       "False"
      ]
     },
     "execution_count": 25,
     "metadata": {},
     "output_type": "execute_result"
    }
   ],
   "source": [
    "app.search(\"abcd\")"
   ]
  },
  {
   "cell_type": "code",
   "execution_count": 2,
   "metadata": {},
   "outputs": [
    {
     "ename": "NameError",
     "evalue": "name 'app' is not defined",
     "output_type": "error",
     "traceback": [
      "\u001b[0;31m---------------------------------------------------------------------------\u001b[0m",
      "\u001b[0;31mNameError\u001b[0m                                 Traceback (most recent call last)",
      "Cell \u001b[0;32mIn[2], line 1\u001b[0m\n\u001b[0;32m----> 1\u001b[0m \u001b[43mapp\u001b[49m\u001b[38;5;241m.\u001b[39msearch(\u001b[38;5;124m\"\u001b[39m\u001b[38;5;124mabcd.\u001b[39m\u001b[38;5;124m\"\u001b[39m)\n",
      "\u001b[0;31mNameError\u001b[0m: name 'app' is not defined"
     ]
    }
   ],
   "source": [
    "app.search(\"abcd.\")"
   ]
  },
  {
   "cell_type": "code",
   "execution_count": 27,
   "metadata": {},
   "outputs": [],
   "source": [
    "app.add_word(\"abcxf\")"
   ]
  }
 ],
 "metadata": {
  "kernelspec": {
   "display_name": "challenge",
   "language": "python",
   "name": "python3"
  },
  "language_info": {
   "codemirror_mode": {
    "name": "ipython",
    "version": 3
   },
   "file_extension": ".py",
   "mimetype": "text/x-python",
   "name": "python",
   "nbconvert_exporter": "python",
   "pygments_lexer": "ipython3",
   "version": "3.13.0"
  }
 },
 "nbformat": 4,
 "nbformat_minor": 2
}
