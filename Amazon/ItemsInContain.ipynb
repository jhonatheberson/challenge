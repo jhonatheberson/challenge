{
 "cells": [
  {
   "cell_type": "markdown",
   "metadata": {},
   "source": [
    "Items in contain"
   ]
  },
  {
   "cell_type": "code",
   "execution_count": null,
   "metadata": {},
   "outputs": [],
   "source": [
    "#!/bin/python3\n",
    "\n",
    "import math\n",
    "import os\n",
    "import random\n",
    "import re\n",
    "import sys\n",
    "\n",
    "\n",
    "\n",
    "#\n",
    "# Complete the 'numberOfItems' function below.\n",
    "#\n",
    "# The function is expected to return an INTEGER_ARRAY.\n",
    "# The function accepts following parameters:\n",
    "#  1. STRING s\n",
    "#  2. INTEGER_ARRAY startIndices\n",
    "#  3. INTEGER_ARRAY endIndices\n",
    "#\n",
    "\n",
    "def numberOfItems(s, startIndices, endIndices):\n",
    "    # Write your code here\n",
    "    result = []\n",
    "    print(len(startIndices))\n",
    "    for i in range(len(startIndices)):\n",
    "        print(i)\n",
    "        available  = s[startIndices[i]-1: endIndices[i]-1]\n",
    "        print(available)\n",
    "        result.append(available.count('*'))\n",
    "        \n",
    "    return result\n",
    "\n",
    "if __name__ == '__main__':\n",
    "    fptr = open(os.environ['OUTPUT_PATH'], 'w')\n",
    "\n",
    "    s = input()\n",
    "\n",
    "    startIndices_count = int(input().strip())\n",
    "\n",
    "    startIndices = []\n",
    "\n",
    "    for _ in range(startIndices_count):\n",
    "        startIndices_item = int(input().strip())\n",
    "        startIndices.append(startIndices_item)\n",
    "\n",
    "    endIndices_count = int(input().strip())\n",
    "\n",
    "    endIndices = []\n",
    "\n",
    "    for _ in range(endIndices_count):\n",
    "        endIndices_item = int(input().strip())\n",
    "        endIndices.append(endIndices_item)\n",
    "\n",
    "    result = numberOfItems(s, startIndices, endIndices)\n",
    "\n",
    "    fptr.write('\\n'.join(map(str, result)))\n",
    "    fptr.write('\\n')\n",
    "\n",
    "    fptr.close()\n"
   ]
  }
 ],
 "metadata": {
  "language_info": {
   "name": "python"
  },
  "orig_nbformat": 4
 },
 "nbformat": 4,
 "nbformat_minor": 2
}
