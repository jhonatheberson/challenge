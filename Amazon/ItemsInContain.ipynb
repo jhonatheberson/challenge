{
 "cells": [
  {
   "cell_type": "markdown",
   "metadata": {},
   "source": [
    "Items in contain"
   ]
  },
  {
   "cell_type": "code",
   "execution_count": 4,
   "metadata": {},
   "outputs": [
    {
     "name": "stdout",
     "output_type": "stream",
     "text": [
      "2\n",
      "0\n",
      "\n",
      "1\n",
      "*|||\n",
      "[0, 1]\n"
     ]
    }
   ],
   "source": [
    "#!/bin/python3\n",
    "\n",
    "import math\n",
    "import os\n",
    "import random\n",
    "import re\n",
    "import sys\n",
    "\n",
    "\n",
    "\n",
    "#\n",
    "# Complete the 'numberOfItems' function below.\n",
    "#\n",
    "# The function is expected to return an INTEGER_ARRAY.\n",
    "# The function accepts following parameters:\n",
    "#  1. STRING s\n",
    "#  2. INTEGER_ARRAY startIndices\n",
    "#  3. INTEGER_ARRAY endIndices\n",
    "#\n",
    "\n",
    "def numberOfItems(s, startIndices, endIndices):\n",
    "    # Write your code here\n",
    "    result = []\n",
    "    print(len(startIndices))\n",
    "    for i in range(len(startIndices)):\n",
    "        print(i)\n",
    "        available  = s[startIndices[i]: endIndices[i]]\n",
    "        print(available)\n",
    "        result.append(available.count('*'))\n",
    "        \n",
    "    return result\n",
    "\n",
    "if __name__ == '__main__':\n",
    "\n",
    "    s = \"|*||||**|\"\n",
    "\n",
    "    startIndices = [1,1]\n",
    "\n",
    "\n",
    "\n",
    "    endIndices = [1,5]\n",
    "\n",
    "\n",
    "    result = numberOfItems(s, startIndices, endIndices)\n",
    "\n",
    "    print(result)\n"
   ]
  }
 ],
 "metadata": {
  "interpreter": {
   "hash": "31f2aee4e71d21fbe5cf8b01ff0e069b9275f58929596ceb00d14d90e3e16cd6"
  },
  "kernelspec": {
   "display_name": "Python 3.8.2 64-bit",
   "language": "python",
   "name": "python3"
  },
  "language_info": {
   "codemirror_mode": {
    "name": "ipython",
    "version": 3
   },
   "file_extension": ".py",
   "mimetype": "text/x-python",
   "name": "python",
   "nbconvert_exporter": "python",
   "pygments_lexer": "ipython3",
   "version": "3.8.2"
  },
  "orig_nbformat": 4
 },
 "nbformat": 4,
 "nbformat_minor": 2
}
